{
  "nbformat": 4,
  "nbformat_minor": 0,
  "metadata": {
    "colab": {
      "provenance": []
    },
    "kernelspec": {
      "name": "python3",
      "display_name": "Python 3"
    },
    "language_info": {
      "name": "python"
    }
  },
  "cells": [
    {
      "cell_type": "code",
      "execution_count": 2,
      "metadata": {
        "colab": {
          "base_uri": "https://localhost:8080/"
        },
        "id": "yaA4wB_n-0aZ",
        "outputId": "65f559aa-6bd3-4f3f-b287-4f70ef65e004"
      },
      "outputs": [
        {
          "output_type": "stream",
          "name": "stdout",
          "text": [
            "Time Unit : 7\n",
            "Earnings : $3000\n",
            "\n",
            "1. T : 1 P : 0 C : 0 \n",
            "2. T : 0 P : 1 C : 0 "
          ]
        }
      ],
      "source": [
        "# fumction to calculate the possible calculations\n",
        "def possible_combinations(establishment, time, earnings, time_unit, profit):\n",
        "  combs = {'T' : 0, 'P' : 0, 'C' : 0}\n",
        "  p, v, c = 0, 0, False\n",
        "  time_unit -= time\n",
        "  while time_unit >= 0:\n",
        "    for i in range(time_unit):\n",
        "      p += earnings\n",
        "    v += 1\n",
        "    time_unit -= time\n",
        "    if p == profit:\n",
        "      combs[establishment[0]] = v\n",
        "      c = True\n",
        "  return [combs, c]\n",
        "\n",
        "# code to get input and store it in a table structured data\n",
        "import pandas as pd\n",
        "data = {'establishment' : ['Theatre', 'Pub', 'Commercial_Park'], 'earnings' : [1500, 1000, 3000], 'time' : [5, 4, 10]}\n",
        "df = pd.DataFrame.from_dict(data)\n",
        "time_unit = int(input('Time Unit : '))\n",
        "profit = input('Earnings : ')\n",
        "profit = int(profit[1:])\n",
        "df = df[df['time'] <= time_unit]\n",
        "for i in range(len(df)):\n",
        "  result = possible_combinations(df['establishment'][i], df['time'][i],  df['earnings'][i], time_unit, profit)\n",
        "  if result[1]:\n",
        "    print()\n",
        "    print(str(i + 1) + '.',end = ' ')\n",
        "    for k, v in result[0].items():\n",
        "      print(k, ':', v, end = ' ')"
      ]
    }
  ]
}